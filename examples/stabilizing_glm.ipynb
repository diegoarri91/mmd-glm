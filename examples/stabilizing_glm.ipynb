{
 "cells": [
  {
   "cell_type": "markdown",
   "metadata": {},
   "source": [
    "## Load data\n",
    "\n",
    "We first load the spiking data as a tensor `mask_spikes_d` with {0, 1} values and we define a 1d tensor `t` with the time points"
   ]
  },
  {
   "cell_type": "code",
   "execution_count": 1,
   "metadata": {},
   "outputs": [
    {
     "data": {
      "image/png": "[encoded data removed]",
      "text/plain": [
       "<Figure size 432x144 with 1 Axes>"
      ]
     },
     "metadata": {
      "needs_background": "light"
     },
     "output_type": "display_data"
    }
   ],
   "source": [
    "import matplotlib.pyplot as plt\n",
    "import numpy as np\n",
    "import torch\n",
    "from mmdglm.utils import plot_spiketrain\n",
    "from examples_utils import fig_layout, plot_fit, psth_and_autocor, set_style\n",
    "\n",
    "set_style()\n",
    "\n",
    "mask_spikes_d = np.load('./monkey_pmv.npy')\n",
    "mask_spikes_d = torch.from_numpy(mask_spikes_d).float()\n",
    "\n",
    "dt = 1\n",
    "t = torch.arange(0, len(mask_spikes_d), 1) * dt\n",
    "\n",
    "ax = plot_spiketrain(t, mask_spikes_d, label='data')"
   ]
  },
  {
   "cell_type": "markdown",
   "metadata": {},
   "source": [
    "We compute quantities that we will use to assess goodness-of-fit of the models we will fit"
   ]
  },
  {
   "cell_type": "code",
   "execution_count": 2,
   "metadata": {},
   "outputs": [],
   "source": [
    "# from mmdglm.convkernels.values import KernelBasisValues\n",
    "from kernel.fun import KernelFun\n",
    "from mmdglm.metrics import bernoulli_log_likelihood_pp\n",
    "\n",
    "n_spk = torch.sum(mask_spikes_d) # total number of spikes\n",
    "ll_pp = bernoulli_log_likelihood_pp(mask_spikes_d) # bernoulli likelihood of poisson process with the same rate\n",
    "\n",
    "kernel_smooth = KernelFun.gaussian(sigma=torch.tensor([20]), \n",
    "                                   weight=torch.tensor([1.]), \n",
    "                                   requires_grad=False)\n",
    "# kernel_smooth = KernelBasisValues.gaussian(dt, tau=20) # gaussian kernel for smoothing spike trains\n",
    "arg_last_lag = 200 # last lag used in autocorrelation\n",
    "t_autocor = torch.arange(0, arg_last_lag, 1) # autocorrelation time points\n",
    "    \n",
    "psth_d, autocor_d = psth_and_autocor(t, mask_spikes_d, kernel_smooth=kernel_smooth, \n",
    "                                     smooth_autocor=False, arg_last_lag=arg_last_lag) # compute PSTH and autocorrelation of samples"
   ]
  },
  {
   "cell_type": "markdown",
   "metadata": {},
   "source": [
    "## Fit ml-glm\n",
    "\n",
    "We first fit a GLM by maximum likelihood. \n",
    "\n",
    "We load the basis values for the history filter and define a filter instance."
   ]
  },
  {
   "cell_type": "code",
   "execution_count": null,
   "metadata": {},
   "outputs": [],
   "source": [
    "basis = np.load('basis.npy')\n",
    "hist = KernelBasisValues(dt=dt, basis_values=basis)"
   ]
  },
  {
   "cell_type": "markdown",
   "metadata": {},
   "source": [
    "We define a GLM instance and extract its parameters maximizing the likelihood using PyTorch."
   ]
  },
  {
   "cell_type": "code",
   "execution_count": null,
   "metadata": {},
   "outputs": [],
   "source": [
    "from torch.optim import Adam\n",
    "from mmdglm.glm.torch import TorchGLM\n",
    "\n",
    "mlglm = TorchGLM(u0=-5, eta=hist)\n",
    "optim = Adam(mlglm.parameters(), lr=1e-1)\n",
    "loss, _ = mlglm.train(t, mask_spikes_d, num_epochs=200, optim=optim, verbose=True)"
   ]
  },
  {
   "cell_type": "markdown",
   "metadata": {},
   "source": [
    "We compute the log-likelihood of the ml-glm, generate samples and compute the psth and autocorrelation of the samples."
   ]
  },
  {
   "cell_type": "code",
   "execution_count": null,
   "metadata": {},
   "outputs": [],
   "source": [
    "ll_ml = (-loss[-1] - ll_pp) / np.log(2) / n_spk # log-likelihood per spike relative to a poisson process with the same rate \n",
    "\n",
    "t_long = torch.arange(0, 3000, dt)\n",
    "_, _, mask_spikes_ml = mlglm.sample(t_long, shape=(500,)) # generate 500 samples from ml-glm\n",
    "\n",
    "psth_ml, autocor_ml = psth_and_autocor(t_long, mask_spikes_ml, kernel_smooth=kernel_smooth, last_lag=last_lag)"
   ]
  },
  {
   "cell_type": "markdown",
   "metadata": {},
   "source": [
    "The ml-glm produces free-running samples with diverging firing rate due to the history filter's self excitation. The free-running samples also fail to capture the autocorrelation of the data samples."
   ]
  },
  {
   "cell_type": "code",
   "execution_count": null,
   "metadata": {},
   "outputs": [],
   "source": [
    "axs = fig_layout()\n",
    "plot_fit(axs, label='data', mask_spikes=mask_spikes_d, psth=psth_d, autocor=autocor_d)\n",
    "plot_fit(axs, label='ml-glm', mask_spikes=mask_spikes_ml[:, :10], psth=psth_ml, history_filter=mlglm.eta, autocor=autocor_ml, ll=ll_ml)"
   ]
  },
  {
   "cell_type": "markdown",
   "metadata": {},
   "source": [
    "## Fit MMD-GLM\n",
    "\n",
    "To improve the free-running behavior of the GLM we propose to optimize a kernel-induced statistic called Maximum Mean Discrepancy (MMD). Given a kernel $k$ or its associated feature map $\\phi: X \\rightarrow \\mathscr{H}$, with $k(X, X')=\\langle \\phi(X), \\phi(X') \\rangle_{\\mathscr{H}}$ and $\\mathscr{H}$ the reproducing kernel Hilbert space, MMD measures the distance in $\\mathscr{H}$ between the embeddings of two probability distributions $\\hat{p}$ and $p$  \n",
    "\n",
    "\\begin{equation*}\n",
    "d_\\text{MMD}(\\hat{p}, p)^2 = \\left| \\left| E_{X \\sim \\hat{p}}[\\phi(X)] - E_{X' \\sim p}[\\phi(X')] \\right| \\right|_\\mathscr{H}^2\n",
    "\\end{equation*}\n",
    "\n",
    "In this example we minimize the objective function $\\text{NLL} + \\alpha \\text{MMD}^2$, with $\\text{NLL}$ the negative log-likelihood and $\\alpha$ a hyperparameter that controls the relative weight of $\\text{MMD}$. We use a model-based feature map, that is a feature map extracted from the GLM we are trying to fit. The feature map\n",
    "\\begin{equation*}\n",
    "\\phi(x; \\theta) = \\sum_{t=1}^\\tau H_x(t; h) H_x(t + \\tau; h) \\hspace{1cm} H_x(t; h)=\\sum_{\\tau} h_\\tau x_{t - \\tau}\n",
    "\\end{equation*}\n",
    "is the autocorrelation of $H_x$, the convolution of the history filter $h$ with the spike train $x$.\n",
    "\n",
    "To minimize the induced MMD, we first define the function that computes this feature map from the conditional intensity $\\lambda$."
   ]
  },
  {
   "cell_type": "code",
   "execution_count": null,
   "metadata": {},
   "outputs": [],
   "source": [
    "import torch.nn.functional as F\n",
    "\n",
    "def phi_autocor_history(t, lam, model, last_lag=500):\n",
    "    \"\"\"\n",
    "    Returns the autocorrelation of the history term.\n",
    "    Functions to compute model-based feature maps should be of the form phi(t, lam, model, **kwargs)\n",
    "    \"\"\"\n",
    "    T = len(t)\n",
    "    history = torch.log(lam) - model.b\n",
    "    autocov = F.conv1d(history.T[None, :, :], history.T[:, None, :], padding=last_lag, groups=history.shape[1]) / T\n",
    "    autocov = autocov[0, :, last_lag + 1:].T # get only positive lags\n",
    "    return autocov"
   ]
  },
  {
   "cell_type": "markdown",
   "metadata": {},
   "source": [
    "Then we use the `ModelBasedMMDGLM` class to optimize"
   ]
  },
  {
   "cell_type": "code",
   "execution_count": null,
   "metadata": {},
   "outputs": [],
   "source": [
    "from mmdglm.glm.modelbasedmmd import ModelBasedMMDGLM\n",
    "\n",
    "alpha_mmd = 1.5e3 # MMD relative weight against NLL in the cost function\n",
    "n_batch_fr = 50 # Number of free-running samples drawn at each iteration to compute MMD^2 and its gradient \n",
    "num_epochs = 300\n",
    "\n",
    "mmdglm = ModelBasedMMDGLM(u0=mlglm.u0, eta=mlglm.eta.copy()) # We initialize the optimization the MLE values\n",
    "optim = Adam(mmdglm.parameters(), lr=1e-2)\n",
    "\n",
    "loss_mmd, metrics = mmdglm.train(t, mask_spikes_d, phi=phi_autocor_history, alpha_mmd=alpha_mmd, \n",
    "                                 n_batch_fr=n_batch_fr, num_epochs=num_epochs, optim=optim, verbose=True)"
   ]
  },
  {
   "cell_type": "markdown",
   "metadata": {},
   "source": [
    "MMD$^2$ decreases during optimization."
   ]
  },
  {
   "cell_type": "code",
   "execution_count": null,
   "metadata": {},
   "outputs": [],
   "source": [
    "plt.plot(metrics['mmd'])\n",
    "plt.xlabel('iterations')\n",
    "plt.ylabel(r'MMD$^2$');"
   ]
  },
  {
   "cell_type": "markdown",
   "metadata": {},
   "source": [
    "We compute the log-likelihood of the mmd-glm, generate samples and compute the psth and autocorrelation of the samples."
   ]
  },
  {
   "cell_type": "code",
   "execution_count": null,
   "metadata": {},
   "outputs": [],
   "source": [
    "ll_mmd = (-metrics['nll'][-1] - ll_pp) / np.log(2) / n_spk\n",
    "_, _, mask_spikes_mmd = mmdglm.sample(t_long, shape=(500,))\n",
    "psth_mmd, autocor_mmd = psth_and_autocor(t_long, mask_spikes_mmd, kernel_smooth=kernel_smooth, last_lag=last_lag)"
   ]
  },
  {
   "cell_type": "markdown",
   "metadata": {},
   "source": [
    "The mmd-glm produces free-running samples with stable firing rate by preferentially reducing the history filter's late self excitation. The free-running samples better match the autocorrelation of the data samples. "
   ]
  },
  {
   "cell_type": "code",
   "execution_count": null,
   "metadata": {},
   "outputs": [],
   "source": [
    "axs = fig_layout(mmd=True)\n",
    "plot_fit(axs, label='data', mask_spikes=mask_spikes_d, psth=psth_d, autocor=autocor_d)\n",
    "plot_fit(axs, label='ml-glm', mask_spikes=mask_spikes_ml[:, :10], psth=psth_ml, history_filter=mlglm.eta, autocor=autocor_ml, ll=ll_ml)\n",
    "plot_fit(axs, label='mmd-glm', mask_spikes=mask_spikes_mmd[:, :10], psth=psth_mmd, history_filter=mmdglm.eta, autocor=autocor_mmd, ll=ll_mmd)\n",
    "axs[2].legend(frameon=True);"
   ]
  }
 ],
 "metadata": {
  "kernelspec": {
   "display_name": "mmdglm",
   "language": "python",
   "name": "mmdglm"
  },
  "language_info": {
   "codemirror_mode": {
    "name": "ipython",
    "version": 3
   },
   "file_extension": ".py",
   "mimetype": "text/x-python",
   "name": "python",
   "nbconvert_exporter": "python",
   "pygments_lexer": "ipython3",
   "version": "3.8.10"
  }
 },
 "nbformat": 4,
 "nbformat_minor": 4
}
